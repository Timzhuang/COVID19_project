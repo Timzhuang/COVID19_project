{
 "cells": [
  {
   "cell_type": "code",
   "execution_count": 95,
   "metadata": {},
   "outputs": [],
   "source": [
    "from scipy.integrate import solve_ivp\n",
    "from scipy.integrate import odeint\n",
    "import numpy as np\n",
    "import matplotlib.pyplot as plt\n",
    "import pandas as pd"
   ]
  },
  {
   "cell_type": "code",
   "execution_count": 96,
   "metadata": {},
   "outputs": [],
   "source": [
    "# global constant and flag\n",
    "sd_imposed_threshold = 0.0035\n",
    "sd_relaxed_threshold = 0.0005\n",
    "sd_imposed = False"
   ]
  },
  {
   "cell_type": "code",
   "execution_count": 97,
   "metadata": {},
   "outputs": [],
   "source": [
    "# seir_model_old: the seir_model without social distancing\n",
    "def seir_model_nosd(t, y, beta, sigma, gamma):\n",
    "    s, e, i, r = y\n",
    "    return np.array([-beta * i * s,\n",
    "                     -sigma * e + beta * i * s, \n",
    "                     -gamma * i + sigma * e, \n",
    "                     gamma * i])"
   ]
  },
  {
   "cell_type": "code",
   "execution_count": 98,
   "metadata": {},
   "outputs": [],
   "source": [
    "# seir_model: the seir model to predict the population state over time:\n",
    "# param array t: Time interval\n",
    "# param y: the current population state\n",
    "# param float beta: The parameter controlling how often a susceptible-infected contact results in a new infection.\n",
    "# param float gamma: The rate an infected recovers and moves into the resistant phase.\n",
    "# param float sigma: The rate at which an exposed person becomes infective.\n",
    "# return: the next population state\n",
    "def seir_model(t, y, beta, sigma, gamma):\n",
    "    \n",
    "    global sd_imposed\n",
    "    \n",
    "    #s: the percentage of individuals who are susceptible to the disease being modeled\n",
    "    #e: the percentage of individuals who are exposed to the disease\n",
    "    #i: the percentage of individuals infected with the disease\n",
    "    #r; the percentage of individuals who can be removed from the system\n",
    "    s, e, i, r = y\n",
    "\n",
    "    # social distancing is imposed when it passes the threshould not relaxed when it passes another threshold\n",
    "    effective_beta = beta\n",
    "    if (not sd_imposed) and i >=  sd_imposed_threshold:\n",
    "        sd_imposed = True\n",
    "    if sd_imposed and i < sd_relaxed_threshold:\n",
    "        sd_imposed = False\n",
    "        \n",
    "    # each period of social distancing reduces R0 by 60%\n",
    "    # beta = R0 * gamma\n",
    "    # shall we use R0??\n",
    "    effective_beta = beta * 0.6 if sd_imposed else beta\n",
    "    \n",
    "    return np.array([-effective_beta * i * s,\n",
    "                     -sigma * e + effective_beta * i * s, \n",
    "                     -gamma * i + sigma * e, \n",
    "                     gamma * i])"
   ]
  },
  {
   "cell_type": "code",
   "execution_count": 99,
   "metadata": {},
   "outputs": [],
   "source": [
    "# solve: the solver for the IVP for the seir model given the initial setting\n",
    "def solve_seir_model(t, y0, beta, sigma, gamma):\n",
    "    return solve_ivp(lambda t, y: seir_model(t, y, beta, sigma, gamma), t, y0, rtol=1e-6)"
   ]
  },
  {
   "cell_type": "code",
   "execution_count": 100,
   "metadata": {},
   "outputs": [],
   "source": [
    "# read USA data\n",
    "df = pd.read_csv(\"time_series_us_cases_NYT.csv\")"
   ]
  },
  {
   "cell_type": "code",
   "execution_count": 101,
   "metadata": {},
   "outputs": [],
   "source": [
    "# choosing area to investigate: Washington\n",
    "population_WA = 7656200.0\n",
    "df_WA = df.loc[df['state'] == \"Washington\"].iloc[:,1:]"
   ]
  },
  {
   "cell_type": "code",
   "execution_count": 102,
   "metadata": {},
   "outputs": [],
   "source": [
    "# initializing the SIER model\n",
    "initial_population_state = [1 - (df_WA.iloc[0,0]/population_WA), df_WA.iloc[0,0]/population_WA, 0, 0]\n",
    "time_interval = [0,len(df_WA.columns)]"
   ]
  },
  {
   "cell_type": "code",
   "execution_count": 103,
   "metadata": {},
   "outputs": [],
   "source": [
    "# parameters tuning for SIER model\n",
    "r0 = 0.85  # reproduction number after quarantine measures - https://papers.ssrn.com/sol3/papers.cfm?abstract_id=3539694\n",
    "r0 = 2.4\n",
    "r0 = 2.0\n",
    "timePresymptomatic = 2.0  # almost half infections take place before symptom onset (Drosten) https://www.medrxiv.org/content/10.1101/2020.03.08.20032946v1.full.pdf  \n",
    "# I in this model is maybe better described as 'Infectors'? Event infectious persons in quarantine do not count.\n",
    "sigma = 1.0 / (5.2 - timePresymptomatic)  # The rate at which an exposed person becomes infectious.  symptom onset - presympomatic\n",
    "# for SEIR: generationTime = 1/sigma + 0.5 * 1/gamma = timeFromInfectionToInfectiousness + timeInfectious  https://en.wikipedia.org/wiki/Serial_interval\n",
    "generationTime = 4.6  # https://www.medrxiv.org/content/10.1101/2020.03.05.20031815v1  http://www.cidrap.umn.edu/news-perspective/2020/03/short-time-between-serial-covid-19-cases-may-hinder-containment\n",
    "gamma = 1.0 / (2.0 * (generationTime - 1.0 / sigma))  # The rate an infectious is not recovers and moves into the resistant phase. Note that for the model it only means he does not infect anybody any more.\n",
    "beta = r0 * gamma  # beta0 is used during days0 phase, beta1 after days0"
   ]
  },
  {
   "cell_type": "code",
   "execution_count": 104,
   "metadata": {},
   "outputs": [],
   "source": [
    "# simulation for WA\n",
    "# solve the IVP for the SIER model\n",
    "sol = solve_seir_model(time_interval, initial_population_state, beta, sigma, gamma)"
   ]
  },
  {
   "cell_type": "code",
   "execution_count": 105,
   "metadata": {},
   "outputs": [
    {
     "data": {
      "text/plain": [
       "<matplotlib.legend.Legend at 0x24e5d3cf2e8>"
      ]
     },
     "execution_count": 105,
     "metadata": {},
     "output_type": "execute_result"
    },
    {
     "data": {
      "image/png": "[encoded data removed]",
      "text/plain": [
       "<Figure size 432x288 with 1 Axes>"
      ]
     },
     "metadata": {
      "needs_background": "light"
     },
     "output_type": "display_data"
    }
   ],
   "source": [
    "# simulation for WA\n",
    "# plot S, E, I ,R\n",
    "fig = plt.figure()\n",
    "ax = fig.gca()\n",
    "curves = ax.plot(sol.t, sol.y.T)\n",
    "ax.legend(curves, ['S', 'E', 'I', 'R'])"
   ]
  },
  {
   "cell_type": "code",
   "execution_count": 106,
   "metadata": {},
   "outputs": [
    {
     "data": {
      "text/plain": [
       "<matplotlib.legend.Legend at 0x24e5d43c2b0>"
      ]
     },
     "execution_count": 106,
     "metadata": {},
     "output_type": "execute_result"
    },
    {
     "data": {
      "image/png": "[encoded data removed]",
      "text/plain": [
       "<Figure size 432x288 with 1 Axes>"
      ]
     },
     "metadata": {
      "needs_background": "light"
     },
     "output_type": "display_data"
    }
   ],
   "source": [
    "# simulation for WA\n",
    "# plot I and thresholds\n",
    "data = np.vstack((sol.y[2], np.full((sol.t.shape), sd_imposed_threshold), np.full((sol.t.shape), sd_relaxed_threshold))).T\n",
    "fig = plt.figure()\n",
    "ax = fig.gca()\n",
    "curves = ax.plot(sol.t, data)\n",
    "ax.legend(curves, ['cases', 'imposed threshold', 'relaxed threshold'])"
   ]
  },
  {
   "cell_type": "code",
   "execution_count": 107,
   "metadata": {},
   "outputs": [
    {
     "data": {
      "text/plain": [
       "<matplotlib.legend.Legend at 0x24e5d4b14e0>"
      ]
     },
     "execution_count": 107,
     "metadata": {},
     "output_type": "execute_result"
    },
    {
     "data": {
      "image/png": "[encoded data removed]",
      "text/plain": [
       "<Figure size 432x288 with 1 Axes>"
      ]
     },
     "metadata": {
      "needs_background": "light"
     },
     "output_type": "display_data"
    }
   ],
   "source": [
    "# real data for WA\n",
    "# plot I and thresholds\n",
    "data = np.vstack((df_WA.to_numpy() / population_WA, np.full((len(df_WA.columns)), sd_imposed_threshold), np.full((len(df_WA.columns)), sd_relaxed_threshold))).T\n",
    "fig = plt.figure()\n",
    "ax = fig.gca()\n",
    "curves = ax.plot(np.array([i for i in range(0,len(df_WA.columns))]), data)\n",
    "ax.legend(curves, ['cases', 'imposed threshold', 'relaxed threshold'])"
   ]
  },
  {
   "cell_type": "code",
   "execution_count": 108,
   "metadata": {},
   "outputs": [
    {
     "data": {
      "text/plain": [
       "<matplotlib.legend.Legend at 0x24e5d51a9e8>"
      ]
     },
     "execution_count": 108,
     "metadata": {},
     "output_type": "execute_result"
    },
    {
     "data": {
      "image/png": "[encoded data removed]",
      "text/plain": [
       "<Figure size 432x288 with 1 Axes>"
      ]
     },
     "metadata": {
      "needs_background": "light"
     },
     "output_type": "display_data"
    }
   ],
   "source": [
    "# simulation for WA\n",
    "# simulation: the case without social distancing\n",
    "sol_nosd = solve_ivp(lambda t, y: seir_model_nosd(t, y, beta, sigma, gamma), time_interval, initial_population_state, rtol=1e-6)\n",
    "# plot S, E, I ,R\n",
    "fig = plt.figure()\n",
    "ax = fig.gca()\n",
    "curves = ax.plot(sol_nosd.t, sol_nosd.y.T)\n",
    "ax.legend(curves, ['S', 'E', 'I', 'R'])"
   ]
  },
  {
   "cell_type": "code",
   "execution_count": 109,
   "metadata": {},
   "outputs": [
    {
     "data": {
      "text/plain": [
       "<matplotlib.legend.Legend at 0x24e5d590550>"
      ]
     },
     "execution_count": 109,
     "metadata": {},
     "output_type": "execute_result"
    },
    {
     "data": {
      "image/png": "[encoded data removed]",
      "text/plain": [
       "<Figure size 432x288 with 1 Axes>"
      ]
     },
     "metadata": {
      "needs_background": "light"
     },
     "output_type": "display_data"
    }
   ],
   "source": [
    "# simulation for WA\n",
    "# plot I and thresholds\n",
    "data = np.vstack((sol_nosd.y[2], np.full((sol_nosd.t.shape), sd_imposed_threshold), np.full((sol_nosd.t.shape), sd_relaxed_threshold))).T\n",
    "fig = plt.figure()\n",
    "ax = fig.gca()\n",
    "curves = ax.plot(sol_nosd.t, data)\n",
    "ax.legend(curves, ['cases', 'imposed threshold', 'relaxed threshold'])"
   ]
  },
  {
   "cell_type": "code",
   "execution_count": 36,
   "metadata": {},
   "outputs": [
    {
     "data": {
      "text/plain": [
       "'\\nold code:\\n\\ndef seir_model(t, y, beta, sigma, gamma, sd_imposed):\\n    #s: the percentage of individuals who are susceptible to the disease being modeled\\n    #e: the percentage of individuals who are exposed to the disease\\n    #i: the percentage of individuals infected with the disease\\n    #r; the percentage of individuals who can be removed from the system\\n    s, e, i, r = y\\n\\n    # social distancing is imposed when it passes the threshould not relaxed when it passes another threshold\\n    effective_beta = beta\\n    if (not sd_imposed) and i >=  sd_imposed_threshold:\\n        print(\"yes\\n\")\\n        sd_imposed = True\\n    if sd_imposed and i < sd_relaxed_threshold:\\n        sd_imposed = False\\n        \\n    # each period of social distancing reduces R0 by 60%\\n    # beta = R0 * gamma\\n    # shall we use R0??\\n    effective_beta = beta * 0.6 if sd_imposed else beta\\n    \\n    return np.array([-effective_beta * i * s,\\n                     -sigma * e + effective_beta * i * s, \\n                     -gamma * i + sigma * e, \\n                     gamma * i])\\ndef solve_seir_model(t, y0, beta, sigma, gamma, sd_imposed):\\n    return solve_ivp(lambda t, y: seir_model(t, y, beta, sigma, gamma, sd_imposed), t, y0, rtol=1e-6)\\n'"
      ]
     },
     "execution_count": 36,
     "metadata": {},
     "output_type": "execute_result"
    }
   ],
   "source": [
    "'''\n",
    "old code:\n",
    "\n",
    "def seir_model(t, y, beta, sigma, gamma, sd_imposed):\n",
    "    #s: the percentage of individuals who are susceptible to the disease being modeled\n",
    "    #e: the percentage of individuals who are exposed to the disease\n",
    "    #i: the percentage of individuals infected with the disease\n",
    "    #r; the percentage of individuals who can be removed from the system\n",
    "    s, e, i, r = y\n",
    "\n",
    "    # social distancing is imposed when it passes the threshould not relaxed when it passes another threshold\n",
    "    effective_beta = beta\n",
    "    if (not sd_imposed) and i >=  sd_imposed_threshold:\n",
    "        print(\"yes\\n\")\n",
    "        sd_imposed = True\n",
    "    if sd_imposed and i < sd_relaxed_threshold:\n",
    "        sd_imposed = False\n",
    "        \n",
    "    # each period of social distancing reduces R0 by 60%\n",
    "    # beta = R0 * gamma\n",
    "    # shall we use R0??\n",
    "    effective_beta = beta * 0.6 if sd_imposed else beta\n",
    "    \n",
    "    return np.array([-effective_beta * i * s,\n",
    "                     -sigma * e + effective_beta * i * s, \n",
    "                     -gamma * i + sigma * e, \n",
    "                     gamma * i])\n",
    "def solve_seir_model(t, y0, beta, sigma, gamma, sd_imposed):\n",
    "    return solve_ivp(lambda t, y: seir_model(t, y, beta, sigma, gamma, sd_imposed), t, y0, rtol=1e-6)\n",
    "'''"
   ]
  },
  {
   "cell_type": "code",
   "execution_count": null,
   "metadata": {},
   "outputs": [],
   "source": []
  },
  {
   "cell_type": "code",
   "execution_count": null,
   "metadata": {},
   "outputs": [],
   "source": []
  },
  {
   "cell_type": "code",
   "execution_count": null,
   "metadata": {},
   "outputs": [],
   "source": []
  }
 ],
 "metadata": {
  "kernelspec": {
   "display_name": "Python [conda env:root] *",
   "language": "python",
   "name": "conda-root-py"
  },
  "language_info": {
   "codemirror_mode": {
    "name": "ipython",
    "version": 3
   },
   "file_extension": ".py",
   "mimetype": "text/x-python",
   "name": "python",
   "nbconvert_exporter": "python",
   "pygments_lexer": "ipython3",
   "version": "3.6.8"
  }
 },
 "nbformat": 4,
 "nbformat_minor": 2
}
